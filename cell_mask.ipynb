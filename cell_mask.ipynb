{
 "cells": [
  {
   "cell_type": "code",
   "execution_count": null,
   "metadata": {},
   "outputs": [],
   "source": [
    "import numpy as np\n",
    "import cv2\n",
    "from scipy.ndimage import label, distance_transform_edt\n",
    "from skimage import exposure, morphology, filters, segmentation, measure"
   ]
  },
  {
   "cell_type": "code",
   "execution_count": null,
   "metadata": {},
   "outputs": [],
   "source": [
    "def CMask(CellImage, NucleusImage, InterestNuc, **kwargs):\n",
    "    # Initialization\n",
    "    Dobrcbr = CellImage.copy()\n",
    "    DAPI = NucleusImage.copy()\n",
    "    In = InterestNuc.copy()\n",
    "\n",
    "    # Anisotropic diffusion\n",
    "    DAPI = exposure.rescale_intensity(DAPI, out_range=(0, 255)).astype(np.uint8)\n",
    "    DAPI = cv2.dilate(DAPI, None, iterations=1)  # Dilate for better diffusion\n",
    "    DAPI = cv2.normalize(DAPI, None, alpha=0, beta=255, norm_type=cv2.NORM_MINMAX, dtype=cv2.CV_8U)\n",
    "    Dobrcbr = cv2.GaussianBlur(Dobrcbr, (0, 0), 0.35)\n",
    "    Dobrcbr = exposure.rescale_intensity(Dobrcbr, out_range=(0, 255)).astype(np.uint8)\n",
    "\n",
    "    # Getting nuclear mask\n",
    "    se = morphology.disk(4)\n",
    "    Ae = morphology.binary_erosion(DAPI, se)\n",
    "    Aobr = morphology.reconstruction(Ae, DAPI)\n",
    "    Aobrd = morphology.binary_dilation(Aobr, se)\n",
    "    Aobrcbr = morphology.reconstruction(~Aobrd, ~Aobr)\n",
    "    Aobrcbr = ~Aobrcbr\n",
    "\n",
    "    # Watershed for final segmentation\n",
    "    distance = -distance_transform_edt(~Aobrcbr)\n",
    "    markers = segmentation.extended_local_minima(distance, indices=False, footprint=np.ones((3, 3, 3)))\n",
    "    markers_labelled = label(markers)\n",
    "    markers_labelled[In == 1] = 1  # Mark the nucleus of interest\n",
    "    L = segmentation.watershed(distance, markers_labelled, mask=~Aobrcbr)\n",
    "    return L"
   ]
  },
  {
   "cell_type": "markdown",
   "metadata": {},
   "source": [
    "Example usage:<br>\n",
    "CellMask = CMask(cropPhal, nucmark, nucInt, thresh='local', s1='Mean', s2='Mean', meth='m2', diskR=11, g1=4, g2=1.5)"
   ]
  }
 ],
 "metadata": {
  "kernelspec": {
   "display_name": "Python 3 (ipykernel)",
   "language": "python",
   "name": "python3"
  },
  "language_info": {
   "codemirror_mode": {
    "name": "ipython",
    "version": 3
   },
   "file_extension": ".py",
   "mimetype": "text/x-python",
   "name": "python",
   "nbconvert_exporter": "python",
   "pygments_lexer": "ipython3",
   "version": "3.11.5"
  }
 },
 "nbformat": 4,
 "nbformat_minor": 4
}
